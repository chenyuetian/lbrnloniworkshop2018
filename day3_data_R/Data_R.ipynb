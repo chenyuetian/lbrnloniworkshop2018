{
  "nbformat": 4,
  "nbformat_minor": 0,
  "metadata": {
    "colab": {
      "name": "Copy of Demo.ipynb",
      "version": "0.3.2",
      "provenance": [],
      "collapsed_sections": [],
      "include_colab_link": true
    },
    "language_info": {
      "codemirror_mode": "r",
      "file_extension": ".r",
      "mimetype": "text/x-r-source",
      "name": "R",
      "pygments_lexer": "r",
      "version": "3.3.1"
    },
    "kernelspec": {
      "display_name": "R",
      "language": "R",
      "name": "ir"
    }
  },
  "cells": [
    {
      "cell_type": "markdown",
      "metadata": {
        "id": "view-in-github",
        "colab_type": "text"
      },
      "source": [
        "<a href=\"https://colab.research.google.com/github/chenyuetian/lbrnloniworkshop2018/blob/master/day3_data_R/Data_R.ipynb\" target=\"_parent\"><img src=\"https://colab.research.google.com/assets/colab-badge.svg\" alt=\"Open In Colab\"/></a>"
      ]
    },
    {
      "cell_type": "markdown",
      "metadata": {
        "id": "CcCXs04t4N5Q",
        "colab_type": "text"
      },
      "source": [
        "Data Analysis in R\n",
        "==="
      ]
    },
    {
      "cell_type": "markdown",
      "metadata": {
        "id": "kixwkd8RbYtx",
        "colab_type": "text"
      },
      "source": [
        "# Outline\n",
        "\n",
        "\n",
        "*   **Data acquisition and inspection**\n",
        "\n",
        "*   **Preprocess the dataset**\n",
        "\n",
        "*   **Data analysis**\n",
        "\n",
        "\n",
        "\n",
        "\n"
      ]
    },
    {
      "cell_type": "markdown",
      "metadata": {
        "id": "puJbML3jdoSt",
        "colab_type": "text"
      },
      "source": [
        "##How does R work\n",
        "*  R works best if you have a dedicated folder for each separate project - the working folder. Put all data files in the working folder (or in subfolders).\n"
      ]
    },
    {
      "cell_type": "markdown",
      "metadata": {
        "id": "VU3C0_JyeOol",
        "colab_type": "text"
      },
      "source": [
        "Show current working folder:"
      ]
    },
    {
      "cell_type": "code",
      "metadata": {
        "id": "XGU0JFFCeJQm",
        "colab_type": "code",
        "colab": {}
      },
      "source": [
        "getwd()"
      ],
      "execution_count": 0,
      "outputs": []
    },
    {
      "cell_type": "markdown",
      "metadata": {
        "id": "6pgrV21teZwS",
        "colab_type": "text"
      },
      "source": [
        "Create a new folder:"
      ]
    },
    {
      "cell_type": "code",
      "metadata": {
        "id": "QkJsZAP0eWLA",
        "colab_type": "code",
        "colab": {}
      },
      "source": [
        "dir.create(\"data\") "
      ],
      "execution_count": 0,
      "outputs": []
    },
    {
      "cell_type": "markdown",
      "metadata": {
        "id": "8n42BV9Begfu",
        "colab_type": "text"
      },
      "source": [
        "Cd to the new folder:"
      ]
    },
    {
      "cell_type": "code",
      "metadata": {
        "id": "X_a7c3y7etuh",
        "colab_type": "code",
        "colab": {}
      },
      "source": [
        "setwd(\"data\")"
      ],
      "execution_count": 0,
      "outputs": []
    },
    {
      "cell_type": "markdown",
      "metadata": {
        "id": "tOgijiMHexJp",
        "colab_type": "text"
      },
      "source": [
        "Show current working folder:"
      ]
    },
    {
      "cell_type": "code",
      "metadata": {
        "id": "Q0JBu8ws4N5W",
        "colab_type": "code",
        "colab": {}
      },
      "source": [
        "getwd()"
      ],
      "execution_count": 0,
      "outputs": []
    },
    {
      "cell_type": "markdown",
      "metadata": {
        "id": "nLmxtiJBfE5F",
        "colab_type": "text"
      },
      "source": [
        "##Case Study: Forbes Fortune List\n",
        "*   The forbes dataset consists of 2000 rows (observations) describing companies’ rank, name, country, category, sales, profits, assets and market value. \n",
        "http://www.hpc.lsu.edu/training/weekly-materials/Downloads/Forbes2000.csv.zip\n"
      ]
    },
    {
      "cell_type": "markdown",
      "metadata": {
        "id": "DOEy_8Iif2HB",
        "colab_type": "text"
      },
      "source": [
        "# Step by step Data Analysis in R\n",
        "\n",
        "\n",
        "1. Get data\n",
        "2. Read data\n",
        "3. inspect data\n",
        "4. Preprocess data (missing and dubious values, discard columns not needed etc.)\n",
        "5. Analyze data\n",
        "6. Generate report\n",
        "\n",
        "\n",
        "\n",
        "\n",
        "\n"
      ]
    },
    {
      "cell_type": "markdown",
      "metadata": {
        "id": "bbBzk3yTqcfB",
        "colab_type": "text"
      },
      "source": [
        "## 1. Get Data\n",
        "* Downloading files from internet\n",
        "> * Manually download the file to the working directory \n",
        "> * or with R function `download.file()`"
      ]
    },
    {
      "cell_type": "code",
      "metadata": {
        "id": "e2O1lDvA4N5f",
        "colab_type": "code",
        "colab": {}
      },
      "source": [
        "download.file(\"http://www.hpc.lsu.edu/training/weekly-materials/Downloads/Forbes2000.csv.zip\", \"Forbes2000.csv.zip\")\n",
        "unzip(\"Forbes2000.csv.zip\",\"Forbes2000.csv\")\n",
        "list.files()   # List files in current folder"
      ],
      "execution_count": 0,
      "outputs": []
    },
    {
      "cell_type": "markdown",
      "metadata": {
        "id": "VtLFhkTYj-ys",
        "colab_type": "text"
      },
      "source": [
        "##2. Read data\n",
        "* R understands many different data formats and has lots of ways of reading/writing them (csv, xml, excel, sql, json etc.)\n",
        "\n",
        ">Input | Output | Purpose\n",
        ">--- | --- | ---\n",
        ">read.table (read.csv) | write.table (write.csv) | for reading/writing tabular data\n",
        ">readLines | writeLines | for reading/writing lines of a text file\n",
        ">source | dump | for reading/writing in R code files\n",
        ">dget | dput | for reading/writing in R code files\n",
        ">load | save | for reading in/saving workspaces\n",
        "\n",
        "* ` read.csv()` is identical to `read.table()` except that the default separator is a comma."
      ]
    },
    {
      "cell_type": "code",
      "metadata": {
        "id": "SkbNLI6tm2Zg",
        "colab_type": "code",
        "colab": {}
      },
      "source": [
        "forbes <- read.csv(\"Forbes2000.csv\",header=T,stringsAsFactors = FALSE,na.strings =\"NA\",sep=\",\")"
      ],
      "execution_count": 0,
      "outputs": []
    },
    {
      "cell_type": "markdown",
      "metadata": {
        "id": "oVFmKLiI4N5n",
        "colab_type": "text"
      },
      "source": [
        "###Quiz\n",
        "* After importing the raw data, the R data object used for carrying the data is a:\n",
        "\n",
        "a) vector\n",
        "\n",
        "b) matrix\n",
        "\n",
        "c) array\n",
        "\n",
        "d) list\n",
        "\n",
        "e) dataframe"
      ]
    },
    {
      "cell_type": "markdown",
      "metadata": {
        "id": "8RtebkNBoRsL",
        "colab_type": "text"
      },
      "source": [
        "##3. Inspect Data\n",
        "* `class()`: check object class\n",
        "* `dim()`: dimension of the data\n",
        "* `head()`: print on screen the first few lines of data, may use n as argument\n",
        "* `tail()`: print the last few lines of data"
      ]
    },
    {
      "cell_type": "code",
      "metadata": {
        "id": "y1WHb5fP4N5p",
        "colab_type": "code",
        "colab": {}
      },
      "source": [
        "class(forbes)\n",
        "dim(forbes)\n",
        "head(forbes)"
      ],
      "execution_count": 0,
      "outputs": []
    },
    {
      "cell_type": "markdown",
      "metadata": {
        "id": "duCMSII14N5z",
        "colab_type": "text"
      },
      "source": [
        "* `str()` displays the structure of the “forbes” dataframe.\n"
      ]
    },
    {
      "cell_type": "code",
      "metadata": {
        "id": "XTrcFrWe4N50",
        "colab_type": "code",
        "colab": {}
      },
      "source": [
        "str(forbes)"
      ],
      "execution_count": 0,
      "outputs": []
    },
    {
      "cell_type": "markdown",
      "metadata": {
        "id": "eMTGCn5u4N59",
        "colab_type": "text"
      },
      "source": [
        "* `summary()` has statistical summary of the “Forbes” dataframe. Note: there are missing values (NAs) in the profits.\n",
        "\n",
        "\n",
        "\n",
        "\n",
        "\n"
      ]
    },
    {
      "cell_type": "code",
      "metadata": {
        "id": "lww1Z3Q-4N5-",
        "colab_type": "code",
        "colab": {}
      },
      "source": [
        "summary(forbes)"
      ],
      "execution_count": 0,
      "outputs": []
    },
    {
      "cell_type": "markdown",
      "metadata": {
        "id": "kao1Zy6iqGG_",
        "colab_type": "text"
      },
      "source": [
        "##4. Preprocess data \n"
      ]
    },
    {
      "cell_type": "markdown",
      "metadata": {
        "id": "gERvlv4cxSif",
        "colab_type": "text"
      },
      "source": [
        "### 4.1 Preprocessing - Missing Values\n",
        "* Missing values are denoted in R by NA or NaN for undefined mathematical operations.\n",
        "> * `is.na(x)` is used to test objects \"x\" if there are NAs\n",
        "> * Which one is NA? `which(is.na(x))`"
      ]
    },
    {
      "cell_type": "code",
      "metadata": {
        "id": "iKV7Qu9i4N6E",
        "colab_type": "code",
        "colab": {}
      },
      "source": [
        "is.na(forbes$profit)  #don't do this because you will get a very long list"
      ],
      "execution_count": 0,
      "outputs": []
    },
    {
      "cell_type": "code",
      "metadata": {
        "id": "SGlBLdCZsZCB",
        "colab_type": "code",
        "colab": {}
      },
      "source": [
        "which(is.na(forbes$profits))"
      ],
      "execution_count": 0,
      "outputs": []
    },
    {
      "cell_type": "markdown",
      "metadata": {
        "id": "rLH9I8W44N6P",
        "colab_type": "text"
      },
      "source": [
        "* more about missing value inspection\n",
        "> * How many NAs? `table(is.na(x))`\n",
        "> * list of observations with missing values on profits `x(is.na(x),)`\n",
        "\n"
      ]
    },
    {
      "cell_type": "code",
      "metadata": {
        "id": "D-kdpDZS4N6R",
        "colab_type": "code",
        "colab": {}
      },
      "source": [
        "table(is.na(forbes$profits))\n",
        "forbes[is.na(forbes$profits),]"
      ],
      "execution_count": 0,
      "outputs": []
    },
    {
      "cell_type": "markdown",
      "metadata": {
        "id": "_aMsG0vktTSC",
        "colab_type": "text"
      },
      "source": [
        "* remember many R functions also have a logical “`na.rm`” option\n",
        "> * `na.rm=TRUE` means the NA values should be discarded\n"
      ]
    },
    {
      "cell_type": "code",
      "metadata": {
        "id": "dbFa1Akztear",
        "colab_type": "code",
        "colab": {
          "base_uri": "https://localhost:8080/",
          "height": 52
        },
        "outputId": "8097fae8-8c92-4809-fd3a-c35e24818454"
      },
      "source": [
        "mean(forbes$profits)\n",
        "mean(forbes$profits,na.rm=T)"
      ],
      "execution_count": 15,
      "outputs": [
        {
          "output_type": "display_data",
          "data": {
            "text/plain": [
              "[1] NA"
            ],
            "text/latex": "<NA>",
            "text/markdown": "&lt;NA&gt;",
            "text/html": [
              "&lt;NA&gt;"
            ]
          },
          "metadata": {
            "tags": []
          }
        },
        {
          "output_type": "display_data",
          "data": {
            "text/plain": [
              "[1] 0.3811328"
            ],
            "text/latex": "0.3811328320802",
            "text/markdown": "0.3811328320802",
            "text/html": [
              "0.3811328320802"
            ]
          },
          "metadata": {
            "tags": []
          }
        }
      ]
    },
    {
      "cell_type": "markdown",
      "metadata": {
        "id": "HRQfa3cXt0-5",
        "colab_type": "text"
      },
      "source": [
        "* **Note: Not all missing values are marked with “NA” in the raw data!**\n"
      ]
    },
    {
      "cell_type": "markdown",
      "metadata": {
        "id": "8QqhU2X5uBjh",
        "colab_type": "text"
      },
      "source": [
        "* The simplest way to deal with the missing values is to remove them. \n",
        "> * If a column (variable) has a high percentage of the missing value, remove the whole column or just don’t use it for the analysis.\n",
        "> * If a row (observation) has a missing value, remove the row with `na.omit()`. e.g. \n"
      ]
    },
    {
      "cell_type": "code",
      "metadata": {
        "id": "yV26wnrUuOjq",
        "colab_type": "code",
        "colab": {}
      },
      "source": [
        "forbes2 <- na.omit(forbes)\n",
        "dim(forbes2)"
      ],
      "execution_count": 0,
      "outputs": []
    },
    {
      "cell_type": "markdown",
      "metadata": {
        "id": "RnVQ-jx2uf-J",
        "colab_type": "text"
      },
      "source": [
        "* Alternatively, the missing values can be replaced by basic statistics e.g. \n",
        "> * replace by mean \n"
      ]
    },
    {
      "cell_type": "code",
      "metadata": {
        "id": "tbWXSnm_umwo",
        "colab_type": "code",
        "colab": {}
      },
      "source": [
        "for(i in 1:nrow(forbes)){\n",
        "  if(is.na(forbes$profits[i])==TRUE){\n",
        "  forbes$profits[i] <- mean(forbes$profits, na.rm = TRUE)\n",
        "  }\n",
        "}"
      ],
      "execution_count": 0,
      "outputs": []
    },
    {
      "cell_type": "markdown",
      "metadata": {
        "id": "ciXJvSGhuysS",
        "colab_type": "text"
      },
      "source": [
        "* or use advanced statistical techniques. List of popular R Packages:\n",
        "> * MICE\n",
        "> * Amelia (named after Amelia Earhart, the first female pilot to fly solo across the Atlantic Ocean. History says, she got mysteriously disappeared (missing) while flying over the pacific ocean in 1937, hence this package was named to solve missing value problems.)\n",
        "> * missForest (non parametric imputation method)\n",
        "> * Hmisc\n",
        "> * mi"
      ]
    },
    {
      "cell_type": "markdown",
      "metadata": {
        "id": "nkNPSPoKvWdZ",
        "colab_type": "text"
      },
      "source": [
        "###4.2 Preprocessing - Subsetting Data\n",
        "* At most occasions we do not need all of the raw data\n",
        "* There are a number of methods of extracting a subset of R objects\n",
        "* Subsetting data can be done either by row or by column \n"
      ]
    },
    {
      "cell_type": "markdown",
      "metadata": {
        "id": "MoPex-0DvrTA",
        "colab_type": "text"
      },
      "source": [
        "#### 4.2.1 Subsetting by row: use conditions\n",
        "Find all companies with negative profit:\n"
      ]
    },
    {
      "cell_type": "code",
      "metadata": {
        "id": "T9WIn_YSv443",
        "colab_type": "code",
        "colab": {}
      },
      "source": [
        "forbes[forbes$profits < 0,c(\"name\",\"sales\",\"profits\",\"assets\")]"
      ],
      "execution_count": 0,
      "outputs": []
    },
    {
      "cell_type": "markdown",
      "metadata": {
        "id": "O1i26j1_wZ7x",
        "colab_type": "text"
      },
      "source": [
        "Find three companies with largest sale volumne:\n"
      ]
    },
    {
      "cell_type": "code",
      "metadata": {
        "id": "ew8W4085we18",
        "colab_type": "code",
        "colab": {}
      },
      "source": [
        "companies <- forbes$name  # or companies <- forbes[,\"name\"] \n",
        "order_sales <- order(forbes$sales, decreasing=T)\n",
        "#company names\n",
        "companies[order_sales[1:3]]\n",
        "#company sales\n",
        "head(sort(forbes$sales,decreasing=T),n=3)"
      ],
      "execution_count": 0,
      "outputs": []
    },
    {
      "cell_type": "markdown",
      "metadata": {
        "id": "qPOuTabFw5RA",
        "colab_type": "text"
      },
      "source": [
        "####4.2.2 Subsetting by row: use `subset()` function\n",
        "Find the business category to which most of the Bermuda island companies belong.\n"
      ]
    },
    {
      "cell_type": "code",
      "metadata": {
        "id": "8Mn7AE7Rw_uB",
        "colab_type": "code",
        "colab": {}
      },
      "source": [
        "Bermudacomp <- subset(forbes, country == \"Bermuda\")\n",
        "table(Bermudacomp[,\"category\"]) #frequency table of categories"
      ],
      "execution_count": 0,
      "outputs": []
    },
    {
      "cell_type": "markdown",
      "metadata": {
        "id": "B4b0rfY-xgJ4",
        "colab_type": "text"
      },
      "source": [
        "####4.2.3 Subsetting by column\n",
        "Create another dataframe with only numeric variables"
      ]
    },
    {
      "cell_type": "code",
      "metadata": {
        "id": "tw_SDfhqxvjD",
        "colab_type": "code",
        "colab": {}
      },
      "source": [
        "#use data.frame function\n",
        "forbes3 <- data.frame(sales=forbes$sale,profits=forbes$profits,\n",
        "           assets=forbes$assets, mvalue=forbes$marketvalue)\n",
        "str(forbes3)\n",
        "\n",
        "#or simply use indexing\n",
        "forbes4 <- forbes[,c(5:8)]\n",
        "str(forbes4)"
      ],
      "execution_count": 0,
      "outputs": []
    },
    {
      "cell_type": "markdown",
      "metadata": {
        "id": "r1R3wV1IyEQC",
        "colab_type": "text"
      },
      "source": [
        "### 4.3 Preprocessing – Factors\n",
        "* factors are variables in R which take on a limited number of different values; such variables are often referred to as categorical variables\n",
        "Convert characters to (unordered) factors"
      ]
    },
    {
      "cell_type": "code",
      "metadata": {
        "id": "nioNugIYyMoh",
        "colab_type": "code",
        "colab": {}
      },
      "source": [
        "forbes$country<-factor(forbes$country)\n",
        "str(forbes)"
      ],
      "execution_count": 0,
      "outputs": []
    },
    {
      "cell_type": "markdown",
      "metadata": {
        "id": "V8RCDhbMyhI8",
        "colab_type": "text"
      },
      "source": [
        "* Small classes could be merged into a larger class. Why?\n",
        "> * For better model performance. E.g. Classification and Regression Trees tend to split using the variables with many categories.\n",
        "> * Actual needs\n",
        "Some categories have just a few subjects"
      ]
    },
    {
      "cell_type": "code",
      "metadata": {
        "id": "v5dHXoPMyruY",
        "colab_type": "code",
        "colab": {}
      },
      "source": [
        "table(forbes$country)"
      ],
      "execution_count": 0,
      "outputs": []
    },
    {
      "cell_type": "markdown",
      "metadata": {
        "id": "MbNTKIxHzJDi",
        "colab_type": "text"
      },
      "source": [
        "* Merge small classes into a larger classes\n",
        "\n",
        "Merge all South American countries to \"Venezuela\""
      ]
    },
    {
      "cell_type": "code",
      "metadata": {
        "id": "5W8TxPeBzjHB",
        "colab_type": "code",
        "colab": {}
      },
      "source": [
        "forbes$country[(forbes$country==\"Bahamas\")|(forbes$country==\"Bermuda\")|(forbes$country==\"Brazil\")|(forbes$country==\"Cayman Islands\")|(forbes$country==\"Chile\")|(forbes$country==\"Panama/ United Kingdom\")|(forbes$country==\"Peru\")]<-\"Venezuela\""
      ],
      "execution_count": 0,
      "outputs": []
    },
    {
      "cell_type": "markdown",
      "metadata": {
        "id": "yDJPSXm6zq7z",
        "colab_type": "text"
      },
      "source": [
        "Merge small classes into a larger classes"
      ]
    },
    {
      "cell_type": "code",
      "metadata": {
        "id": "n-TKo6aQz1mg",
        "colab_type": "code",
        "colab": {}
      },
      "source": [
        "forbes$country[(forbes$country==\"Austria\")|(forbes$country==\"Belgium\")|(forbes$country==\"Czech Republic\")|(forbes$country==\"Denmark\")|(forbes$country==\"Finland\")|(forbes$country==\"France\")|(forbes$country==\"Germany\")|(forbes$country==\"Greece\")|(forbes$country==\"Hungary\")|(forbes$country==\"Ireland\")|(forbes$country==\"Italy\")|(forbes$country==\"Luxembourg\")|(forbes$country==\"Netherlands\")|(forbes$country==\"Norway\")|(forbes$country==\"Poland\")|(forbes$country==\"Portugal\")|(forbes$country==\"Russia\")|(forbes$country==\"Spain\")|(forbes$country==\"Sweden\")|(forbes$country==\"Switzerland\")|(forbes$country==\"Turkey\")|(forbes$country==\"France/ United Kingdom\")|(forbes$country==\"United Kingdom/ Netherlands\")|(forbes$country==\"Netherlands/ United Kingdom\")]<-\"United Kingdom\"\n",
        "forbes$country[(forbes$country==\"China\")|(forbes$country==\"Hong Kong/China\")|(forbes$country==\"Indonesia\")|(forbes$country==\"Japan\")|(forbes$country==\"Kong/China\")|(forbes$country==\"Korea\")|(forbes$country==\"Malaysia\")|(forbes$country==\"Philippines\")|(forbes$country==\"Singapore\")|(forbes$country==\"South Korea\")|(forbes$country==\"Taiwan\")]<-\"Thailand\"\n",
        "forbes$country[(forbes$country==\"Africa\")|(forbes$country==\"Australia\")|(forbes$country==\"India\")|(forbes$country==\"Australia/ United Kingdom\")|(forbes$country==\"Islands\")|(forbes$country==\"Israel\")|(forbes$country==\"Jordan\")|(forbes$country==\"Liberia\")|(forbes$country==\"Mexico\")|(forbes$country==\"New Zealand\")|(forbes$country==\"Pakistan\")|(forbes$country==\"South Africa\")|(forbes$country==\"United Kingdom/ Australia\")]<-\"United Kingdom/ South Africa\""
      ],
      "execution_count": 0,
      "outputs": []
    },
    {
      "cell_type": "markdown",
      "metadata": {
        "id": "H6ZanpW70XSj",
        "colab_type": "text"
      },
      "source": [
        "* Drop those levels with zero counts\n",
        "\n",
        "Use `droplevels()` function:\n"
      ]
    },
    {
      "cell_type": "code",
      "metadata": {
        "id": "bXODV7KY0ni4",
        "colab_type": "code",
        "colab": {}
      },
      "source": [
        "forbes$country<-droplevels(forbes$country)"
      ],
      "execution_count": 0,
      "outputs": []
    },
    {
      "cell_type": "markdown",
      "metadata": {
        "id": "_kyU02Vm0yvh",
        "colab_type": "text"
      },
      "source": [
        "Now we can check the new frequency tables:"
      ]
    },
    {
      "cell_type": "code",
      "metadata": {
        "id": "mjjqV7Ui02oH",
        "colab_type": "code",
        "colab": {}
      },
      "source": [
        "table(forbes$country)"
      ],
      "execution_count": 0,
      "outputs": []
    },
    {
      "cell_type": "markdown",
      "metadata": {
        "id": "hPwB5uT409eQ",
        "colab_type": "text"
      },
      "source": [
        "* Rename each class"
      ]
    },
    {
      "cell_type": "code",
      "metadata": {
        "id": "CHdjaHLq1AYT",
        "colab_type": "code",
        "colab": {}
      },
      "source": [
        "levels(forbes$country)<-c(\"Canada\",\"East/Southeast Asia\",\"Europe\",\"Other\",\"United States\",\"Latin America\")\n",
        "levels(forbes$country)"
      ],
      "execution_count": 0,
      "outputs": []
    },
    {
      "cell_type": "markdown",
      "metadata": {
        "id": "7XZclPFj1ZB7",
        "colab_type": "text"
      },
      "source": [
        "###4.4 Export the cleaned dataset (Optional)\n",
        "* Save forbes to Forbes2000_clean.csv"
      ]
    },
    {
      "cell_type": "code",
      "metadata": {
        "id": "1hyWWnp51kWL",
        "colab_type": "code",
        "colab": {}
      },
      "source": [
        "write.csv(forbes,\"Forbes2000_clean.csv\",row.names=FALSE)\n",
        "list.files()"
      ],
      "execution_count": 0,
      "outputs": []
    },
    {
      "cell_type": "markdown",
      "metadata": {
        "id": "IK3T1KxJ1w0J",
        "colab_type": "text"
      },
      "source": [
        "##Exercise 1\n",
        "1. Find all German companies with negative profit\n"
      ]
    },
    {
      "cell_type": "code",
      "metadata": {
        "id": "VxvxYUGf18v-",
        "colab_type": "code",
        "colab": {}
      },
      "source": [
        ""
      ],
      "execution_count": 0,
      "outputs": []
    },
    {
      "cell_type": "markdown",
      "metadata": {
        "id": "64W1m4j62C_K",
        "colab_type": "text"
      },
      "source": [
        "2. Find 50 companies in the Forbes dataset with the highest profit\n"
      ]
    },
    {
      "cell_type": "code",
      "metadata": {
        "id": "wdNpeHhL2I8I",
        "colab_type": "code",
        "colab": {}
      },
      "source": [
        ""
      ],
      "execution_count": 0,
      "outputs": []
    },
    {
      "cell_type": "markdown",
      "metadata": {
        "id": "N-vlWYXa2KDP",
        "colab_type": "text"
      },
      "source": [
        "3. Find the average value of sales for the companies in each country (Hint: use tapply function)\n"
      ]
    },
    {
      "cell_type": "code",
      "metadata": {
        "id": "DJoPpiSC2TLE",
        "colab_type": "code",
        "colab": {}
      },
      "source": [
        "tapply( , , )"
      ],
      "execution_count": 0,
      "outputs": []
    },
    {
      "cell_type": "markdown",
      "metadata": {
        "id": "iN6Aecr72Xsh",
        "colab_type": "text"
      },
      "source": [
        "4. Find the number of companies in each country with profits above 5 billion US dollars"
      ]
    },
    {
      "cell_type": "code",
      "metadata": {
        "id": "GdKNAiOO2ZZ7",
        "colab_type": "code",
        "colab": {}
      },
      "source": [
        ""
      ],
      "execution_count": 0,
      "outputs": []
    },
    {
      "cell_type": "markdown",
      "metadata": {
        "id": "Notp57M92aJS",
        "colab_type": "text"
      },
      "source": [
        "5. Arbitrarily merge the classes of category to three classes: industry, services and finance"
      ]
    },
    {
      "cell_type": "code",
      "metadata": {
        "id": "UGWRofhu2fgK",
        "colab_type": "code",
        "colab": {}
      },
      "source": [
        ""
      ],
      "execution_count": 0,
      "outputs": []
    },
    {
      "cell_type": "markdown",
      "metadata": {
        "id": "zreO0WEd2gpD",
        "colab_type": "text"
      },
      "source": [
        "## 5. Analyze data\n"
      ]
    },
    {
      "cell_type": "markdown",
      "metadata": {
        "id": "Io-6rNFc2_6s",
        "colab_type": "text"
      },
      "source": [
        "###5.1 Two common questions:\n",
        "* Which statistical model should I use for my data analysis?\n",
        "* How to choose the right R packages for my data analysis?\n"
      ]
    },
    {
      "cell_type": "markdown",
      "metadata": {
        "id": "EyUGpmqm3c5B",
        "colab_type": "text"
      },
      "source": [
        "#### Which statistical model should I use for my data analysis?\n",
        "* This is not a statistics workshop…\n",
        "* If you need to learn more about the data mining and data analysis from statisticians:\n",
        "> * EXST7142 - Statistical Data Mining \n",
        "http://statweb.lsu.edu/faculty/li/teach/exst7142/\n",
        "> *EXST7152 - Advanced Topics in Statistical Modeling\n",
        "http://statweb.lsu.edu/faculty/li/teach/exst7152/\n"
      ]
    },
    {
      "cell_type": "markdown",
      "metadata": {
        "id": "5FYfkxB73Wpo",
        "colab_type": "text"
      },
      "source": [
        "####How to choose the right R packages for my data analysis?\n",
        "* The most popular packages are most frequently mentioned\n",
        "* CRAN task views \n",
        "https://cran.r-project.org/web/views/\n",
        "* RDocumentation\n",
        "a website, an R package and an API\n",
        "https://www.rdocumentation.org\n",
        "\n"
      ]
    },
    {
      "cell_type": "markdown",
      "metadata": {
        "id": "Osw6lYbu4UUL",
        "colab_type": "text"
      },
      "source": [
        "###5.2 Import the cleaned dataset (Optional)\n",
        "* Subsetting by column\n",
        "Create a dataframe with the clean data"
      ]
    },
    {
      "cell_type": "code",
      "metadata": {
        "id": "9ghM_DIK4ffD",
        "colab_type": "code",
        "colab": {}
      },
      "source": [
        "forbes_clean <- read.csv(\"Forbes2000_clean.csv\",header=T,stringsAsFactors = T,na.strings =\"NA\",sep=\",\")"
      ],
      "execution_count": 0,
      "outputs": []
    },
    {
      "cell_type": "markdown",
      "metadata": {
        "id": "Bcf3wU_IA_hZ",
        "colab_type": "text"
      },
      "source": [
        "###5.3 Extract Variables \n",
        "* Create another data frame with only numeric variables + country"
      ]
    },
    {
      "cell_type": "code",
      "metadata": {
        "id": "jFDVjnz4CVBT",
        "colab_type": "code",
        "colab": {}
      },
      "source": [
        "forbes_clean <- forbes_clean[,c(3, 5:8)]\n",
        "str(forbes_clean)"
      ],
      "execution_count": 0,
      "outputs": []
    },
    {
      "cell_type": "markdown",
      "metadata": {
        "id": "yS8zt-Bq46lR",
        "colab_type": "text"
      },
      "source": [
        "###5.4 Training Set and Test Set\n",
        "* Dataset could be randomly split into two parts: training set and test set. \n"
      ]
    },
    {
      "cell_type": "code",
      "metadata": {
        "id": "yFDob7OX5DB4",
        "colab_type": "code",
        "colab": {}
      },
      "source": [
        "set.seed(1) #set random seed reproducible\n",
        "indx <- sample(1:1995,size=1995,replace=F)\n",
        "forbes.train <- forbes_clean[indx[1:1600],]\n",
        "forbes.test <- forbes_clean[indx[1601:1995],]"
      ],
      "execution_count": 0,
      "outputs": []
    },
    {
      "cell_type": "markdown",
      "metadata": {
        "id": "6QDlUXDC5fda",
        "colab_type": "text"
      },
      "source": [
        "###5.5 Roadmap of generalizations of linear models\n",
        "![]()\n"
      ]
    },
    {
      "cell_type": "markdown",
      "metadata": {
        "id": "JnaICTq67sOy",
        "colab_type": "text"
      },
      "source": [
        "* Explanation of Acronyms\n",
        "\n",
        ">Models | Acronym | R function\n",
        ">--- | --- | ---\n",
        ">Linear Models | LM | lm, aov\n",
        ">MultivariateLMs | MLM | manova\n",
        ">Generalized LMs | GLM | glm\n",
        ">Linear Mixed Models | LMM | lme, aov\n",
        ">Non-linear Models | NLM | nls\n",
        ">Non-linear Mixed Models | NLMM | nlme\n",
        ">Generalized LMMs | GLMM | glmmPQL\n",
        ">Generalized Additive Models | GAM | gam\n"
      ]
    },
    {
      "cell_type": "markdown",
      "metadata": {
        "colab_type": "text",
        "id": "ttmFlPAl9S-e"
      },
      "source": [
        "* Symbol Meanings in Model Formulae\n",
        "\n",
        ">Symbol | Example | Meaning\n",
        ">--- | --- | ---\n",
        ">+ | +X | Include variable X in the model\n",
        ">- | -X | Exclude variable X in the model\n",
        ">: | X:Z | Include the interaction between X and Z\n",
        ">\\* | X\\*Z | Include X and Z and the interactions\n",
        ">\\| | NLM | Conditioning: include X given Z\n",
        ">^ | NLMM | Include A, B and C and all the interactions up to three way\n",
        ">/ | GLMM | As is: include a new variable consisting of these variables multiplied\n",
        "\n",
        "\n"
      ]
    },
    {
      "cell_type": "markdown",
      "metadata": {
        "colab_type": "text",
        "id": "TJb-oJhc-vBk"
      },
      "source": [
        "* Model Formulae\n",
        "> * General form: response ~ term1 + term2\n",
        "\n",
        "> Example | Meaning\n",
        ">--- | --- \n",
        ">y ~ x | Simple regression\n",
        ">y ~ -1 +  x | LM through the origin\n",
        ">y ~ x + x^2 | Quadratic regression\n",
        ">y ~ x1 + x2 + x3 | Multiple regression\n",
        ">y ~ . | All variables included\n",
        ">y ~ . - x1 | All variables except X1\n",
        ">y ~ A + B + A : B | Add interaction\n",
        ">y ~ A \\* B | Same above\n",
        ">y ~ (A+B)^2 | Same above\n",
        "\n",
        "\n",
        "\n",
        "\n"
      ]
    },
    {
      "cell_type": "markdown",
      "metadata": {
        "id": "UgXvQ1jVAQza",
        "colab_type": "text"
      },
      "source": [
        "###5.6 A Multiple Linear Regression Example\n",
        "* marketvalue ~ profits + sales + assets + country\n"
      ]
    },
    {
      "cell_type": "code",
      "metadata": {
        "id": "WKhQvh03AX46",
        "colab_type": "code",
        "colab": {}
      },
      "source": [
        "lm <- lm(marketvalue ~ ., data = forbes.train)\n",
        "summary(lm)\n"
      ],
      "execution_count": 0,
      "outputs": []
    },
    {
      "cell_type": "markdown",
      "metadata": {
        "id": "MGvRGagqC7Y1",
        "colab_type": "text"
      },
      "source": [
        "* R has created a n-1 variables each with two levels. These n-1 new variables contain the same information as the single variable. This recoding creates a table called contrast matrix.\n"
      ]
    },
    {
      "cell_type": "code",
      "metadata": {
        "id": "iJzmijc6C9H6",
        "colab_type": "code",
        "colab": {}
      },
      "source": [
        "contrasts(forbes.train$country)\n"
      ],
      "execution_count": 0,
      "outputs": []
    },
    {
      "cell_type": "markdown",
      "metadata": {
        "id": "CfogXLmSC_Uh",
        "colab_type": "text"
      },
      "source": [
        "* The decision to code dummy variables is arbitrary, and has no effect on the regression computation, but does alter the interpretation of the coefficients.\n"
      ]
    },
    {
      "cell_type": "markdown",
      "metadata": {
        "id": "9tFPA_8LDHDb",
        "colab_type": "text"
      },
      "source": [
        "###5.7 A Stepwise Regression Example\n",
        "* The function `regsubsets()` in the leaps library allow us to do the stepwise regression\n"
      ]
    },
    {
      "cell_type": "code",
      "metadata": {
        "id": "ryhD1VVGDQwT",
        "colab_type": "code",
        "colab": {}
      },
      "source": [
        "install.packages(\"leaps\")\n",
        "library(leaps)\n",
        "bwd <- regsubsets(marketvalue ~ ., data = forbes.train,nvmax =3,method =\"backward\")\n",
        "summary(bwd)"
      ],
      "execution_count": 0,
      "outputs": []
    },
    {
      "cell_type": "markdown",
      "metadata": {
        "id": "kVwCNQi9Dg_J",
        "colab_type": "text"
      },
      "source": [
        "An asterisk indicates that a given variable is included in the corresponding model.\n"
      ]
    },
    {
      "cell_type": "markdown",
      "metadata": {
        "id": "gEIVHum8DjHg",
        "colab_type": "text"
      },
      "source": [
        "###5.8 A Regression Tree Example\n",
        "* The function `rpart() `in the rpart library allow us to grow a regression tree\n"
      ]
    },
    {
      "cell_type": "code",
      "metadata": {
        "id": "7klSPLUGDu7N",
        "colab_type": "code",
        "colab": {}
      },
      "source": [
        "install.packages(\"rpart\")\n",
        "library(rpart)\n",
        "rpart <- rpart(marketvalue ~ ., data = forbes.train,control = rpart.control(xval = 10, minbucket = 50))\n",
        "par(mfrow=c(1,1),xpd=NA,cex=1.5)\n",
        "plot(rpart,uniform=T)\n",
        "text(rpart,use.n=T)\n"
      ],
      "execution_count": 0,
      "outputs": []
    },
    {
      "cell_type": "markdown",
      "metadata": {
        "id": "A04hazCMEP-L",
        "colab_type": "text"
      },
      "source": [
        "###5.9 A Bagging Tree Example\n",
        "* The function `randomForest()` in the randomForest library allow us to grow a regression tree\n"
      ]
    },
    {
      "cell_type": "code",
      "metadata": {
        "id": "_S4FGTrOEX8i",
        "colab_type": "code",
        "colab": {}
      },
      "source": [
        "install.packages(\"randomForest\")\n",
        "library(randomForest)\n",
        "bag <- randomForest(marketvalue ~ ., data = forbes.train, importance =TRUE)\n",
        "importance(bag)\n",
        "varImpPlot(bag)"
      ],
      "execution_count": 0,
      "outputs": []
    },
    {
      "cell_type": "markdown",
      "metadata": {
        "id": "DcKx_akHE4Ci",
        "colab_type": "text"
      },
      "source": [
        "### 5.10 The Predictive Results in Terms of the MAD and RMSE Values \n",
        ">Model | Package | RMSE | MAD\n",
        ">--- | --- | --- | ---\n",
        ">MLR |  | 14.41041 | 6.436288\n",
        ">Backward | leaps | 14.41041 | 6.436288\n",
        ">Pruned tree | rpart | 17.85625 | 5.899107\n",
        ">Bagging tree | randomForest | 11.69301 | 4.944942\n",
        "\n",
        "* Bagging tree example for calculating RMSE and MAD"
      ]
    },
    {
      "cell_type": "code",
      "metadata": {
        "id": "ha-DCQGeIMRh",
        "colab_type": "code",
        "colab": {}
      },
      "source": [
        "forbes_clean2 <- forbes_clean[,c(2:5)]  # create a new dataframe with only numeric variables included\n",
        "set.seed(2) \n",
        "indx <- sample(1:1995,size=1995,replace=F)\n",
        "forbes.train <- forbes_clean2[indx[1:1600],]\n",
        "forbes.test <- forbes_clean2[indx[1601:1995],]\n",
        "bag <- randomForest(marketvalue ~ ., data = forbes.train, importance =TRUE)\n",
        "bag.yhat <- predict(bag, newdata = forbes.test) \n",
        "bag.y <- forbes.test[\"marketvalue\"] \n",
        "bag.rmse <- sqrt(mean(data.matrix((bag.y - bag.yhat)^2)))\n",
        "bag.rmse\n",
        "bag.abs = abs(bag.y - bag.yhat) \n",
        "bag.mad = (sum(bag.abs))/395 \n",
        "bag.mad "
      ],
      "execution_count": 0,
      "outputs": []
    },
    {
      "cell_type": "markdown",
      "metadata": {
        "id": "ZSws0mVIGF-K",
        "colab_type": "text"
      },
      "source": [
        "##Exercise 2\n",
        "1. Use the `lm()` function to perform a multiple linear regression with profits as the response and all other numeric variables as the predictors. Use the `summary()` function to print the results. \n"
      ]
    },
    {
      "cell_type": "code",
      "metadata": {
        "id": "PUWzXPyhGVFk",
        "colab_type": "code",
        "colab": {}
      },
      "source": [
        ""
      ],
      "execution_count": 0,
      "outputs": []
    },
    {
      "cell_type": "markdown",
      "metadata": {
        "id": "Hm4KasWEGWi4",
        "colab_type": "text"
      },
      "source": [
        "2. Comment on the output. For instance:  Is there a relationship between the predictors and the response? \n"
      ]
    },
    {
      "cell_type": "markdown",
      "metadata": {
        "id": "lmB6_YXLGaNJ",
        "colab_type": "text"
      },
      "source": [
        "3. Which predictors appear to have a statistically significant relationship to the response? \n"
      ]
    },
    {
      "cell_type": "markdown",
      "metadata": {
        "id": "icDSRv30GdJi",
        "colab_type": "text"
      },
      "source": [
        "4. What does the coefficient for the sales variable suggest?\n"
      ]
    },
    {
      "cell_type": "markdown",
      "metadata": {
        "id": "jkDB5eTjGf8E",
        "colab_type": "text"
      },
      "source": [
        "5. Use the * and : symbols to fit linear regression models with interaction effects. \u000bDo any interactions appear to be statistically significant? \n"
      ]
    },
    {
      "cell_type": "code",
      "metadata": {
        "id": "z-T8BBllGj-j",
        "colab_type": "code",
        "colab": {}
      },
      "source": [
        ""
      ],
      "execution_count": 0,
      "outputs": []
    },
    {
      "cell_type": "markdown",
      "metadata": {
        "id": "DEcOcoR7FqcV",
        "colab_type": "text"
      },
      "source": [
        "##6. Generate the report\n",
        "* R Markdown\n",
        "> * Allows one to generate dynamic report by weaving R code and human readable texts together\n",
        "* The `knitr `and `rmarkdown` packages can convert them into documents of various formats\n",
        "* Help make your research reproducible\n",
        "\n"
      ]
    },
    {
      "cell_type": "markdown",
      "metadata": {
        "id": "WPJq6HZYNMEu",
        "colab_type": "text"
      },
      "source": [
        "#Take-home message\n",
        "* Get the data \n",
        "* Read and inspect the data\n",
        "* Preprocess the data\n",
        "> *  missing values, discard rows, columns not needed etc.\n",
        "* Analyze the data\n",
        "> * choose the right model and R package\n",
        "> * common R functions and syntax for regressions\n",
        "* Generate the report\n"
      ]
    },
    {
      "cell_type": "markdown",
      "metadata": {
        "id": "eaTOsvmeNp-1",
        "colab_type": "text"
      },
      "source": [
        "# Getting Help\n",
        "* Documentation: http://www.hpc.lsu.edu/docs\n",
        "* Contact us\n",
        "> * Email ticket system: sys-help@loni.org\n",
        "> * Telephone Help Desk: 225-578-0900"
      ]
    }
  ]
}